{
 "cells": [
  {
   "cell_type": "markdown",
   "metadata": {},
   "source": [
    "## Imports"
   ]
  },
  {
   "cell_type": "code",
   "execution_count": null,
   "metadata": {},
   "outputs": [],
   "source": [
    "import pandas as pd\n",
    "import numpy as np\n",
    "import matplotlib.pyplot as plt\n",
    "import seaborn as sns\n",
    "%matplotlib inline\n",
    "from fastai import *\n",
    "from fastai.vision import *\n",
    "from fastai.callbacks import *\n",
    "np.random.seed(42)\n",
    "torch.cuda.set_device(0)\n",
    "import glob\n",
    "import seaborn as sns"
   ]
  },
  {
   "cell_type": "markdown",
   "metadata": {},
   "source": [
    "The first step is to partition the data into its categories: train/val/test"
   ]
  },
  {
   "cell_type": "markdown",
   "metadata": {},
   "source": [
    "## Creating the dataframes"
   ]
  },
  {
   "cell_type": "code",
   "execution_count": null,
   "metadata": {},
   "outputs": [],
   "source": [
    "#Categories list to DF\n",
    "categories = pd.read_csv('./Anno/list_category_cloth.txt', sep='\\s{2,}', header=0, skiprows=[0], engine='python')\n",
    "categories['category_label'] = np.arange(1, len(categories)+1)\n",
    "\n",
    "#DF with partition labels train/val/test\n",
    "#DF with category number labels\n",
    "img_partitions = pd.read_csv('./Eval/list_eval_partition.txt', delim_whitespace=True, header=1)\n",
    "img_categories = pd.read_csv('./Anno/list_category_img.txt', delim_whitespace=True, header=0, skiprows=[0])\n",
    "\n",
    "#Merge category DF with category label DF \n",
    "#Merge DFs for total DF with category and partition labels\n",
    "img_categories = pd.merge(img_categories, categories, how='left', on='category_label' )\n",
    "total_df = pd.merge(img_categories, img_partitions, how='left', on='image_name')"
   ]
  },
  {
   "cell_type": "markdown",
   "metadata": {},
   "source": [
    "total_df now formulated, consists of the dataset with the evaluation status, cat type and cat name in one format"
   ]
  },
  {
   "cell_type": "code",
   "execution_count": null,
   "metadata": {},
   "outputs": [],
   "source": [
    "print(total_df)"
   ]
  },
  {
   "cell_type": "markdown",
   "metadata": {},
   "source": [
    "## EDA and Cleaning Data"
   ]
  },
  {
   "cell_type": "markdown",
   "metadata": {},
   "source": [
    "manually cluster the similar categories from observations of the dataset"
   ]
  },
  {
   "cell_type": "code",
   "execution_count": null,
   "metadata": {},
   "outputs": [],
   "source": [
    "#Combining \"Caftan\" and \"Kaftan\" (two different spellings) into one category\n",
    "for i in total_df[(total_df['category_name'] == 'Caftan')].index:\n",
    "    total_df.loc[i,'category_label'] = '43'\n",
    "    total_df.loc[i,'category_name'] = 'Kaftan'\n",
    "    "
   ]
  },
  {
   "cell_type": "code",
   "execution_count": null,
   "metadata": {},
   "outputs": [],
   "source": [
    "def count_attr_imgs(attr_df):\n",
    "    col_counts = {}\n",
    "\n",
    "    for col in attr_df.columns[1:]:\n",
    "        col_counts[col] = attr_df[col].value_counts().to_frame().loc[True][0]\n",
    "    \n",
    "    col_df = pd.DataFrame.from_dict(col_counts, orient='index', columns=['Count'])\n",
    "    \n",
    "    return col_df\n"
   ]
  },
  {
   "cell_type": "code",
   "execution_count": null,
   "metadata": {},
   "outputs": [],
   "source": [
    "len(total_df[(total_df['category_name'] == 'Sarong')])"
   ]
  },
  {
   "cell_type": "code",
   "execution_count": null,
   "metadata": {},
   "outputs": [],
   "source": [
    "drop_categories = total_df['category_name'].value_counts().tail(12)\n",
    "print(drop_categories)"
   ]
  },
  {
   "cell_type": "markdown",
   "metadata": {},
   "source": [
    "Now we want to clean the dataframe through dropping the categories that are attributes to the lowest populated classes"
   ]
  },
  {
   "cell_type": "code",
   "execution_count": null,
   "metadata": {},
   "outputs": [],
   "source": [
    "cleaned_df = total_df.drop(total_df[total_df['category_name'].isin(drop_categories)].index).copy()"
   ]
  },
  {
   "cell_type": "markdown",
   "metadata": {},
   "source": [
    "Now to see what the spread of data is within the dataset:"
   ]
  },
  {
   "cell_type": "code",
   "execution_count": null,
   "metadata": {},
   "outputs": [],
   "source": [
    "cleaned_df['category_name'].value_counts().plot()"
   ]
  },
  {
   "cell_type": "markdown",
   "metadata": {},
   "source": [
    "there is a high inbalance toward tshirts and dresses which may skew the model training - thus some of the highly populated categories are to be dropped"
   ]
  },
  {
   "cell_type": "code",
   "execution_count": null,
   "metadata": {},
   "outputs": [],
   "source": [
    "arr2 = [1,3,4,234,2,35,24,5,345,34,23,87]\n",
    "dropstuff = np.random.choice(arr2, 12)\n",
    "print(dropstuff)"
   ]
  },
  {
   "cell_type": "code",
   "execution_count": null,
   "metadata": {},
   "outputs": [],
   "source": [
    "def drop_cat(category, dropNum):\n",
    "    cat_index = total_df[(total_df['category_name'] == category)&\n",
    "                         (total_df['evaluation_status']\n",
    "                           .isin(['train','val']))].index.tolist()\n",
    "    print(cat_index)\n",
    "    dropCat = np.random.choice(cat_index, dropNum, replace=False)\n",
    "    return dropCat.tolist()"
   ]
  },
  {
   "cell_type": "code",
   "execution_count": null,
   "metadata": {},
   "outputs": [],
   "source": [
    "drop_dress = drop_cat('Dress', 53000)\n",
    "drop_tee = drop_cat('Tee', 22000)\n",
    "drop_blouse = drop_cat('Blouse', 10000)\n",
    "drop_shorts = drop_cat('Shorts', 6000)\n",
    "drop_tank = drop_cat('Tank', 3000)\n",
    "drop_skirt = drop_cat('Skirt', 2000)\n",
    "\n",
    "\n",
    "\n",
    "drop_all_cat = drop_dress + drop_tee + drop_blouse + drop_shorts + drop_tank + drop_skirt\n",
    "# print(drop_all_cat)"
   ]
  },
  {
   "cell_type": "markdown",
   "metadata": {},
   "source": [
    "create training set with the categories dropped in place"
   ]
  },
  {
   "cell_type": "code",
   "execution_count": null,
   "metadata": {},
   "outputs": [],
   "source": [
    "training_df = cleaned_df[cleaned_df['evaluation_status'].isin(['train','val'])][['image_name','category_name']].copy()\n",
    "training_df.drop(drop_all_cat, inplace=True)\n",
    "len(training_df)"
   ]
  },
  {
   "cell_type": "markdown",
   "metadata": {},
   "source": [
    "split into test set below:"
   ]
  },
  {
   "cell_type": "code",
   "execution_count": null,
   "metadata": {},
   "outputs": [],
   "source": [
    "test_df = cleaned_df[cleaned_df['evaluation_status'].isin(['test'])][['image_name','category_name']].copy()\n",
    "len(test_df)\n",
    "# test_df.drop(drop_all_cat, inplace=True)"
   ]
  },
  {
   "cell_type": "code",
   "execution_count": null,
   "metadata": {},
   "outputs": [],
   "source": [
    "training_df['category_name'].value_counts()"
   ]
  },
  {
   "cell_type": "code",
   "execution_count": null,
   "metadata": {},
   "outputs": [],
   "source": [
    "print(test_df)\n",
    "print(training_df)"
   ]
  },
  {
   "cell_type": "code",
   "execution_count": null,
   "metadata": {},
   "outputs": [],
   "source": [
    "test_df['category_name'].value_counts().plot()"
   ]
  },
  {
   "cell_type": "code",
   "execution_count": null,
   "metadata": {},
   "outputs": [],
   "source": [
    "from matplotlib import image\n",
    "\n",
    "# load the image\n",
    "data = image.imread('Img/img/2-in-1_Space_Dye_Athletic_Tank/img_00000002.jpg')\n",
    "\n",
    "plt.imshow(data)\n",
    "plt.show()"
   ]
  },
  {
   "cell_type": "markdown",
   "metadata": {},
   "source": [
    "## Model Training"
   ]
  },
  {
   "cell_type": "code",
   "execution_count": null,
   "metadata": {},
   "outputs": [],
   "source": [
    "from fastai import *\n",
    "from fastai.vision import *\n",
    "\n",
    "np.random.seed(42)\n",
    "torch.cuda.set_device(0)"
   ]
  },
  {
   "cell_type": "markdown",
   "metadata": {},
   "source": [
    "### Loading the data in with DataBunch"
   ]
  },
  {
   "cell_type": "code",
   "execution_count": null,
   "metadata": {},
   "outputs": [],
   "source": [
    "img_base_path = Path(\"Img/\")\n",
    "data = ImageDataBunch.from_df(img_base_path, training_df, ds_tfms=get_transforms(), size=224)\n",
    "data.normalize(imagenet_stats)"
   ]
  },
  {
   "cell_type": "markdown",
   "metadata": {},
   "source": []
  },
  {
   "cell_type": "code",
   "execution_count": null,
   "metadata": {},
   "outputs": [],
   "source": [
    "data.show_batch(rows=3, figsize=(14,12))"
   ]
  },
  {
   "cell_type": "markdown",
   "metadata": {},
   "source": [
    "Classes that exist within the data"
   ]
  },
  {
   "cell_type": "code",
   "execution_count": null,
   "metadata": {},
   "outputs": [],
   "source": [
    "print(data.classes)\n",
    "len(data.classes),data.c\n"
   ]
  },
  {
   "cell_type": "markdown",
   "metadata": {},
   "source": [
    "### Different cnn_learners defined - utilised during the network analysis section"
   ]
  },
  {
   "cell_type": "markdown",
   "metadata": {},
   "source": [
    "dropout of 0.2 and weight decay of 0.1  \n",
    "use of resnet50 as final model"
   ]
  },
  {
   "cell_type": "code",
   "execution_count": null,
   "metadata": {},
   "outputs": [],
   "source": [
    "# learn = cnn_learner(data, models.resnet50, metrics=accuracy)\n",
    "# learn2 = cnn_learner(data, models.resnet34, metrics=accuracy)\n",
    "# learn3 = cnn_learner(data, models.vgg19_bn, metrics=accuracy)\n",
    "\n",
    "\n",
    "learn = cnn_learner(data, models.resnet50, metrics=accuracy, ps=0.2, wd=0.1)\n",
    "                     "
   ]
  },
  {
   "cell_type": "markdown",
   "metadata": {},
   "source": [
    "## Defining cross validation data split"
   ]
  },
  {
   "cell_type": "markdown",
   "metadata": {},
   "source": [
    "make use off the sklearn library, using the StratifiedKFold"
   ]
  },
  {
   "cell_type": "code",
   "execution_count": null,
   "metadata": {},
   "outputs": [],
   "source": [
    "from sklearn.model_selection import StratifiedKFold"
   ]
  },
  {
   "cell_type": "markdown",
   "metadata": {},
   "source": [
    "Create 5 fold "
   ]
  },
  {
   "cell_type": "code",
   "execution_count": null,
   "metadata": {
    "scrolled": true
   },
   "outputs": [],
   "source": [
    "skf = StratifiedKFold(n_splits=5, shuffle=True, random_state=1)\n"
   ]
  },
  {
   "cell_type": "code",
   "execution_count": null,
   "metadata": {},
   "outputs": [],
   "source": [
    "def make_cnn_learner(data_fold):\n",
    "    return cnn_learner(data_fold, models.resnet50, metrics=accuracy, ps=0.2, wd=0.1)"
   ]
  },
  {
   "cell_type": "markdown",
   "metadata": {},
   "source": [
    "## 5 fold - define fold in each loop, "
   ]
  },
  {
   "cell_type": "code",
   "execution_count": null,
   "metadata": {},
   "outputs": [],
   "source": [
    "acc_val = []\n",
    "\n",
    "for train_index, val_index in skf.split(training_df.index, training_df['category_name']):\n",
    "    data_fold = (ImageList.from_df(training_df, img_base_path)\n",
    "                 .split_by_idxs(train_index, val_index)\n",
    "                 .label_from_df()\n",
    "                 .transform(get_transforms(), size=224)\n",
    "                 .databunch(num_workers=15)).normalize(imagenet_stats)\n",
    "    learn = make_cnn_learner(data_fold)\n",
    "    learn.fit_one_cycle(4)\n",
    "    loss, acc = learn.validate()\n",
    "    acc_val.append(acc.numpy())"
   ]
  },
  {
   "cell_type": "markdown",
   "metadata": {},
   "source": [
    "initial top1 accuracy"
   ]
  },
  {
   "cell_type": "code",
   "execution_count": null,
   "metadata": {},
   "outputs": [],
   "source": [
    "np.mean(acc_val)"
   ]
  },
  {
   "cell_type": "code",
   "execution_count": null,
   "metadata": {},
   "outputs": [],
   "source": [
    "learn.save('cat-resnet50')\n",
    "learn.export('cat-resnet50.pkl')"
   ]
  },
  {
   "cell_type": "code",
   "execution_count": null,
   "metadata": {},
   "outputs": [],
   "source": [
    "learn4.fit_one_cycle(1)"
   ]
  },
  {
   "cell_type": "code",
   "execution_count": null,
   "metadata": {},
   "outputs": [],
   "source": [
    "learn.load('cat-resnet50')"
   ]
  },
  {
   "cell_type": "markdown",
   "metadata": {},
   "source": [
    "define top k prediction function"
   ]
  },
  {
   "cell_type": "code",
   "execution_count": null,
   "metadata": {},
   "outputs": [],
   "source": [
    "def top_k_accuracy(output, target, topK=(3,)):\n",
    "    maxK = max(topK)\n",
    "    batch_size = target.size(0)\n",
    " \n",
    "    _, prediction = output.topK(maxK, 1, True, True)\n",
    "    prediction = prediction.t()\n",
    "    correct = prediction.eq(target.view(1, -1).expand_as(prediction))\n",
    " \n",
    "    result = []\n",
    "    for k in topK:\n",
    "        correct_k = correct[:k].view(-1).float().sum(0, keepdim=True)\n",
    "        result.append(correct_k.mul_(100.0 / batch_size))\n",
    "    return result"
   ]
  },
  {
   "cell_type": "code",
   "execution_count": null,
   "metadata": {},
   "outputs": [],
   "source": []
  },
  {
   "cell_type": "markdown",
   "metadata": {},
   "source": [
    "Top 5 from initial epoch:"
   ]
  },
  {
   "cell_type": "markdown",
   "metadata": {},
   "source": []
  },
  {
   "cell_type": "code",
   "execution_count": null,
   "metadata": {},
   "outputs": [],
   "source": [
    "output, target = learn.get_preds()\n",
    "top_k_accuracy(output, target)"
   ]
  },
  {
   "cell_type": "code",
   "execution_count": null,
   "metadata": {},
   "outputs": [],
   "source": [
    "learn.fit_one_cycle(4)"
   ]
  },
  {
   "cell_type": "code",
   "execution_count": null,
   "metadata": {},
   "outputs": [],
   "source": [
    "learn.save('cat-resnet50-5epoch')"
   ]
  },
  {
   "cell_type": "raw",
   "metadata": {},
   "source": []
  },
  {
   "cell_type": "code",
   "execution_count": null,
   "metadata": {},
   "outputs": [],
   "source": [
    "learn.load('cat-resnet50-5epoch')"
   ]
  },
  {
   "cell_type": "markdown",
   "metadata": {},
   "source": [
    "test top 3 again"
   ]
  },
  {
   "cell_type": "code",
   "execution_count": null,
   "metadata": {},
   "outputs": [],
   "source": [
    "output, target = learn.get_preds()\n",
    "\n",
    "top_k_accuracy(output, target, topk=(5,))"
   ]
  },
  {
   "cell_type": "markdown",
   "metadata": {},
   "source": [
    "find optimal learner rate"
   ]
  },
  {
   "cell_type": "code",
   "execution_count": null,
   "metadata": {},
   "outputs": [],
   "source": [
    "learn.lr_find()"
   ]
  },
  {
   "cell_type": "markdown",
   "metadata": {},
   "source": [
    "Loop through the different learning rates to find lowest associate loss"
   ]
  },
  {
   "cell_type": "code",
   "execution_count": null,
   "metadata": {},
   "outputs": [],
   "source": [
    "learn.recorder.plot()"
   ]
  },
  {
   "cell_type": "markdown",
   "metadata": {},
   "source": [
    "unfreeze layers for training on entire network"
   ]
  },
  {
   "cell_type": "code",
   "execution_count": null,
   "metadata": {},
   "outputs": [],
   "source": [
    "learn.unfreeze()"
   ]
  },
  {
   "cell_type": "markdown",
   "metadata": {},
   "source": [
    "conduct another 8 epochs with max learning rate defined within slice according to lowest loss. Following the one cycle policy"
   ]
  },
  {
   "cell_type": "code",
   "execution_count": null,
   "metadata": {},
   "outputs": [],
   "source": [
    "learn.fit_one_cycle(8, max_lr=slice(1e-5,1e-3))"
   ]
  },
  {
   "cell_type": "code",
   "execution_count": null,
   "metadata": {},
   "outputs": [],
   "source": [
    "learn.export('cat-resnet50-5epoch-8uf.pkl')"
   ]
  },
  {
   "cell_type": "code",
   "execution_count": null,
   "metadata": {},
   "outputs": [],
   "source": [
    "learn.save('cat-resnet50-5epoch-8uf')"
   ]
  },
  {
   "cell_type": "markdown",
   "metadata": {},
   "source": [
    "freeze all layers except for the head layer"
   ]
  },
  {
   "cell_type": "code",
   "execution_count": null,
   "metadata": {},
   "outputs": [],
   "source": [
    "learn.freeze()"
   ]
  },
  {
   "cell_type": "markdown",
   "metadata": {},
   "source": [
    "train head layer another 4 epochs"
   ]
  },
  {
   "cell_type": "code",
   "execution_count": null,
   "metadata": {},
   "outputs": [],
   "source": [
    "learn.fit_one_cycle(4)"
   ]
  },
  {
   "cell_type": "code",
   "execution_count": null,
   "metadata": {},
   "outputs": [],
   "source": [
    "learn.export('cat-resnet50-9epoch-8uf.pkl')"
   ]
  },
  {
   "cell_type": "code",
   "execution_count": null,
   "metadata": {},
   "outputs": [],
   "source": [
    "learn.save('cat-resnet50-9epoch-8uf')"
   ]
  },
  {
   "cell_type": "code",
   "execution_count": null,
   "metadata": {},
   "outputs": [],
   "source": [
    "learn.load('cat-resnet50-9epoch-8uf')"
   ]
  },
  {
   "cell_type": "markdown",
   "metadata": {},
   "source": [
    "check top-5 prediction"
   ]
  },
  {
   "cell_type": "code",
   "execution_count": null,
   "metadata": {},
   "outputs": [],
   "source": [
    "output, target = learn.get_preds()\n",
    "top_k_accuracy(output, target, topk=(5,))"
   ]
  },
  {
   "cell_type": "markdown",
   "metadata": {},
   "source": [
    "top 5 prediction is outputting 2% better than the FashionNet research"
   ]
  },
  {
   "cell_type": "markdown",
   "metadata": {},
   "source": [
    "top-3 prediction ()"
   ]
  },
  {
   "cell_type": "code",
   "execution_count": null,
   "metadata": {},
   "outputs": [],
   "source": [
    "output, target = learn.get_preds()\n",
    "top_k_accuracy(output, target)"
   ]
  },
  {
   "cell_type": "markdown",
   "metadata": {},
   "source": [
    "Find highest lr associated to lowest loss again for a varying learning rate"
   ]
  },
  {
   "cell_type": "code",
   "execution_count": null,
   "metadata": {},
   "outputs": [],
   "source": [
    "learn.lr_find()"
   ]
  },
  {
   "cell_type": "code",
   "execution_count": null,
   "metadata": {},
   "outputs": [],
   "source": [
    "learn.recorder.plot()"
   ]
  },
  {
   "cell_type": "markdown",
   "metadata": {},
   "source": [
    "unfreeze the layers once again to make them all trainable"
   ]
  },
  {
   "cell_type": "code",
   "execution_count": null,
   "metadata": {},
   "outputs": [],
   "source": [
    "learn.unfreeze()"
   ]
  },
  {
   "cell_type": "markdown",
   "metadata": {},
   "source": [
    "redefined the max_lr slice "
   ]
  },
  {
   "cell_type": "code",
   "execution_count": null,
   "metadata": {},
   "outputs": [],
   "source": [
    "learn.fit_one_cycle(4, max_lr=slice(1e-4,1e-2))"
   ]
  },
  {
   "cell_type": "code",
   "execution_count": null,
   "metadata": {},
   "outputs": [],
   "source": [
    "learn.export('cat-resnet50-9epoch-12uf.pkl')"
   ]
  },
  {
   "cell_type": "code",
   "execution_count": null,
   "metadata": {},
   "outputs": [],
   "source": [
    "learn.save('cat-resnet50-9epoch-12uf.pkl')"
   ]
  },
  {
   "cell_type": "code",
   "execution_count": null,
   "metadata": {},
   "outputs": [],
   "source": [
    "learn.load('cat-resnet50-9epoch-12uf.pkl')"
   ]
  },
  {
   "cell_type": "markdown",
   "metadata": {},
   "source": [
    "Top 3"
   ]
  },
  {
   "cell_type": "code",
   "execution_count": null,
   "metadata": {},
   "outputs": [],
   "source": [
    "output, target = learn.get_preds()\n",
    "top_k_accuracy(output, target, topk=(3,))"
   ]
  },
  {
   "cell_type": "markdown",
   "metadata": {},
   "source": [
    "Top 5"
   ]
  },
  {
   "cell_type": "code",
   "execution_count": null,
   "metadata": {},
   "outputs": [],
   "source": [
    "output, target = learn.get_preds()\n",
    "top_k_accuracy(output, target, topk=(5,))"
   ]
  },
  {
   "cell_type": "markdown",
   "metadata": {},
   "source": [
    "### Observe the most confused categories "
   ]
  },
  {
   "cell_type": "code",
   "execution_count": null,
   "metadata": {},
   "outputs": [],
   "source": [
    "interp = ClassificationInterpretation.from_learner(learn)"
   ]
  },
  {
   "cell_type": "code",
   "execution_count": null,
   "metadata": {},
   "outputs": [],
   "source": [
    "interp.plot_top_losses(9, figsize=(15,11))"
   ]
  },
  {
   "cell_type": "code",
   "execution_count": null,
   "metadata": {
    "scrolled": true
   },
   "outputs": [],
   "source": [
    "interp.most_confused(min_val=80)"
   ]
  },
  {
   "cell_type": "markdown",
   "metadata": {},
   "source": []
  },
  {
   "cell_type": "code",
   "execution_count": null,
   "metadata": {},
   "outputs": [],
   "source": [
    "interp.plot_confusion_matrix(figsize=(12,12), dpi=60)"
   ]
  },
  {
   "cell_type": "code",
   "execution_count": null,
   "metadata": {},
   "outputs": [],
   "source": []
  },
  {
   "cell_type": "code",
   "execution_count": null,
   "metadata": {},
   "outputs": [],
   "source": []
  },
  {
   "cell_type": "markdown",
   "metadata": {},
   "source": [
    "#### Test predictions on validation set for top-3 top-5"
   ]
  },
  {
   "cell_type": "code",
   "execution_count": null,
   "metadata": {},
   "outputs": [],
   "source": [
    "output, target = learn.get_preds(ds_type=DatasetType.Valid)\n",
    "top_k_accuracy(output, target, topk=(3,))"
   ]
  },
  {
   "cell_type": "code",
   "execution_count": null,
   "metadata": {},
   "outputs": [],
   "source": [
    "output, target = learn.get_preds(ds_type=DatasetType.Valid)\n",
    "top_k_accuracy(output, target, topk=(5,))"
   ]
  },
  {
   "cell_type": "code",
   "execution_count": null,
   "metadata": {},
   "outputs": [],
   "source": [
    "def top_k_accuracy(output, target, topk=(1,)):\n",
    "    \"\"\"Computes the precision@k for the specified values of k\"\"\"\n",
    "    maxk = max(topk)\n",
    "    batch_size = target.size(0)\n",
    "\n",
    "    _, pred = output.topk(maxk, 1, True, True)\n",
    "    pred = pred.t()\n",
    "    correct = pred.eq(target.view(1, -1).expand_as(pred))\n",
    "\n",
    "    res = []\n",
    "    for k in topk:\n",
    "        correct_k = correct[:k].view(-1).float().sum(0, keepdim=True)\n",
    "        res.append(correct_k.mul_(100.0 / batch_size))\n",
    "    return res"
   ]
  },
  {
   "cell_type": "markdown",
   "metadata": {},
   "source": [
    "#### Test predictions on train set for top 3, top5, expect higher fitting"
   ]
  },
  {
   "cell_type": "code",
   "execution_count": null,
   "metadata": {},
   "outputs": [],
   "source": [
    "output, target = learn.get_preds(ds_type=DatasetType.Train)\n",
    "top_k_accuracy(output, target, topk=(3,))"
   ]
  },
  {
   "cell_type": "code",
   "execution_count": null,
   "metadata": {},
   "outputs": [],
   "source": [
    "output, target = learn.get_preds(ds_type=DatasetType.Train)\n",
    "top_k_accuracy(output, target, topk=(5,))"
   ]
  },
  {
   "cell_type": "code",
   "execution_count": null,
   "metadata": {},
   "outputs": [],
   "source": []
  },
  {
   "cell_type": "markdown",
   "metadata": {},
   "source": [
    "### Utilising test set"
   ]
  },
  {
   "cell_type": "code",
   "execution_count": null,
   "metadata": {},
   "outputs": [],
   "source": [
    "img_base_path = Path(\"Img/\")\n",
    "testdata = ImageDataBunch.from_df(img_base_path, test_df, ds_tfms=get_transforms(), size=224)\n",
    "testdata.normalize(imagenet_stats)"
   ]
  },
  {
   "cell_type": "code",
   "execution_count": null,
   "metadata": {},
   "outputs": [],
   "source": [
    "learn.data = testdata"
   ]
  },
  {
   "cell_type": "code",
   "execution_count": null,
   "metadata": {},
   "outputs": [],
   "source": [
    "print(learn.data)"
   ]
  },
  {
   "cell_type": "markdown",
   "metadata": {},
   "source": [
    "Evaluating based upon the Test dataset:  \n",
    "    top3:"
   ]
  },
  {
   "cell_type": "code",
   "execution_count": null,
   "metadata": {},
   "outputs": [],
   "source": [
    "output, target = learn.get_preds(ds_type=DatasetType.Train)\n",
    "top_k_accuracy(output, target, topk=(3,))"
   ]
  },
  {
   "cell_type": "markdown",
   "metadata": {},
   "source": [
    "top5:"
   ]
  },
  {
   "cell_type": "code",
   "execution_count": null,
   "metadata": {},
   "outputs": [],
   "source": [
    "output, target = learn.get_preds(ds_type=DatasetType.Train)\n",
    "top_k_accuracy(output, target, topk=(5,))"
   ]
  },
  {
   "cell_type": "markdown",
   "metadata": {},
   "source": [
    "## Real world example "
   ]
  },
  {
   "cell_type": "code",
   "execution_count": null,
   "metadata": {
    "scrolled": true
   },
   "outputs": [],
   "source": [
    "predict_img_path = \"./data/zen5.jpg\"\n",
    "show_image(open_image(predict_img_path))\n",
    "learn = load_learner(path='./Img/', file='cat-rn50-size150-fr4-unfr2-fr4-unfr4.pkl')\n",
    "classes = ['Blazer', 'Blouse', 'Bomber', 'Button-Down', 'Cardigan', 'Chinos', 'Coat', 'Culottes', 'Cutoffs', 'Dress', 'Flannel', 'Henley', 'Hoodie', 'Jacket', 'Jeans', 'Jeggings', 'Jersey', 'Joggers', 'Jumpsuit', 'Kimono', 'Leggings', 'Parka', 'Poncho', 'Romper', 'Shorts', 'Skirt', 'Sweater', 'Sweatpants', 'Sweatshorts', 'Tank', 'Tee', 'Top', 'Trunks']\n"
   ]
  },
  {
   "cell_type": "code",
   "execution_count": null,
   "metadata": {},
   "outputs": [],
   "source": [
    "category,classIndex,losses = learn.predict(open_image(predict_img_path))\n",
    "predictions = sorted(zip(classes, map(float, losses)), key=lambda p: p[1], reverse=True)\n",
    "print (predictions[:5])\n",
    "print (len(predictions))"
   ]
  },
  {
   "cell_type": "markdown",
   "metadata": {},
   "source": [
    "### Mocking of server based communication"
   ]
  },
  {
   "cell_type": "code",
   "execution_count": null,
   "metadata": {},
   "outputs": [],
   "source": [
    "import numpy as np\n",
    "import pandas as pd\n",
    "import seaborn as sns\n",
    "import matplotlib as plt\n",
    "import json\n",
    "import requests"
   ]
  },
  {
   "cell_type": "code",
   "execution_count": null,
   "metadata": {},
   "outputs": [],
   "source": [
    "url='http://localhost:8889/api'\n",
    "data = json.dumps({\n",
    "    'base64':'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'\n",
    "})\n",
    "r = requests.post(url, data)\n",
    "print(r.text)"
   ]
  },
  {
   "cell_type": "code",
   "execution_count": null,
   "metadata": {},
   "outputs": [],
   "source": [
    "import dill"
   ]
  },
  {
   "cell_type": "code",
   "execution_count": null,
   "metadata": {},
   "outputs": [],
   "source": [
    "dill.dump_session('cat_notebook_env.db')"
   ]
  },
  {
   "cell_type": "code",
   "execution_count": null,
   "metadata": {},
   "outputs": [],
   "source": []
  }
 ],
 "metadata": {
  "kernelspec": {
   "display_name": "Python 3",
   "language": "python",
   "name": "python3"
  },
  "language_info": {
   "codemirror_mode": {
    "name": "ipython",
    "version": 3
   },
   "file_extension": ".py",
   "mimetype": "text/x-python",
   "name": "python",
   "nbconvert_exporter": "python",
   "pygments_lexer": "ipython3",
   "version": "3.7.3"
  }
 },
 "nbformat": 4,
 "nbformat_minor": 2
}
